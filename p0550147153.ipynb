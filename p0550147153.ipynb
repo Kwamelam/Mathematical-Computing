{
 "cells": [
  {
   "cell_type": "code",
   "execution_count": 41,
   "metadata": {},
   "outputs": [],
   "source": [
    "chars = \"ABCDEFGHIJKLMONPQRSTUVWXYZabcdefghijklmonpqrstuvwxyz 0123456789.,:;<>?!()\\n\" \n",
    "#List of characters to be used in the project"
   ]
  },
  {
   "cell_type": "code",
   "execution_count": 42,
   "metadata": {},
   "outputs": [],
   "source": [
    "d = dict( zip (list(chars), range(len(chars)))) # assigns numeric values to characters"
   ]
  },
  {
   "cell_type": "code",
   "execution_count": null,
   "metadata": {},
   "outputs": [],
   "source": [
    "dinv = {v:k for k,v in d.items() } # allows to inversly find strings of values "
   ]
  },
  {
   "cell_type": "code",
   "execution_count": 43,
   "metadata": {},
   "outputs": [],
   "source": [
    "dkey=[] # A list for the keys\n",
    "key=open('keys.txt','r') #Opens and reads keys file\n",
    "keylist=key.readlines()   # reads all lines in key file"
   ]
  },
  {
   "cell_type": "code",
   "execution_count": 120,
   "metadata": {},
   "outputs": [],
   "source": [
    "def decrypt(text): # defines the function to allow us to decrypt the message with the text file as the parameter\n",
    "      \n",
    "    crypt=[] # creates an empty list for the message\n",
    "    ml=0 # Allows us to quantize the length of the message\n",
    "    mes = open(text, 'r') # # Opens and reads text file\n",
    "    readmes=mes.read() # reads the encrpyted files and assign it a variable\n",
    "    mes.close() # Closes text file\n",
    "    mylist=[] # creates a list to store values\n",
    "    \n",
    "    for i in readmes:  # Loops through every character in the message\n",
    "        crypt.append(i)  # Creates a list of said charachters\n",
    "                \n",
    "    for word in crypt: # collects words\n",
    "        for i in word: # iterates through each word in the message\n",
    "            ml +=1 # adds this letter after each iteration\n",
    "            numvar=d[i] # changes from a letter into a number \n",
    "            mylist.append(numvar) # append the numeric value\n",
    "               \n",
    "    for line in keylist: # iterate through each line of key file\n",
    "        line=line.replace(\"\\n\",\"\") # removes \\n from each line\n",
    "        dkey.append(line) # appends remaining text to list\n",
    "        \n",
    "    for i in range(100): # Iterates through each potential key in the file\n",
    "        nkey=[] # empty list to add key words\n",
    "        kw=dkey[i]\n",
    "\n",
    "        for i in kw: #iterates through each value\n",
    "            value=d[i] # changes letters to numbers\n",
    "            nkey.append(value) # appends values to said list\n",
    "            \n",
    "        k=len(mylist)//len(nkey) # # of times the message is evenly divisible by the key \n",
    "        r=len(mylist)%len(nkey) # Takes the remainder if not evenly divisble\n",
    "        klength=nkey*k+nkey[:r] #stores and adds the remainder to the to the rest of the key to allign the message and key perfectly\n",
    "        \n",
    "        switch=[] \n",
    "        for i in range(len(klength)): #iterates through klength\n",
    "            diff=mylist[i]-klength[i] # take the differene of the message and the key\n",
    "            switch.append(diff)  # append the subtracted values to the list\n",
    "            \n",
    "        valu=[]     # list for the new number values \n",
    "        for i in range(len(switch)): # loop for through values to find the message \n",
    "            if switch[i] <0: # if any value is less than 0, adding 74 keeps it positive and within the range of pur dictionary\n",
    "                valu.append(switch[i]+74)  #appends new value    \n",
    "            else:\n",
    "                valu.append(switch[i]) #If already positive it'll just append to the list\n",
    "                \n",
    "        final=[]    # new list for the message    \n",
    "        for i in range(len(valu)): \n",
    "            let=dinv[valu[i]] # converts the numbers back into letters\n",
    "            final.append(let)\n",
    "            \n",
    "        book=\"\".join(final)  # joins at the spaces for the message   \n",
    "        passa= \" the \" in book   # Check to see if 'the' is in the message. Basically teaching python english \n",
    "        if passa == True: # If a word is in the message it'll finish the process of decrypting\n",
    "            complete=book\n",
    "            \n",
    "    print(complete) # prints"
   ]
  },
  {
   "cell_type": "code",
   "execution_count": 121,
   "metadata": {},
   "outputs": [
    {
     "name": "stdout",
     "output_type": "stream",
     "text": [
      "When this adventure was at an end, I came back out of my house, having\n",
      "occasion for fresh air.  The emperor was already descended from the\n",
      "tower, and advancing on horseback towards me, which had like to have cost\n",
      "him dear; for the beast, though very well trained, yet wholly unused to\n",
      "such a sight, which appeared as if a mountain moved before him, reared up\n",
      "on its hinder feet: but that prince, who is an excellent horseman, kept\n",
      "his seat, till his attendants ran in, and held the bridle, while his\n",
      "majesty had time to dismount.  When he alighted, he surveyed me round\n",
      "with great admiration; but kept beyond the length of my chain.  He\n",
      "ordered his cooks and butlers, who were already prepared, to give me\n",
      "victuals and drink, which they pushed forward in a sort of vehicles upon\n",
      "wheels, till I could reach them.  I took these vehicles and soon emptied\n",
      "them all; twenty of them were filled with meat, and ten with liquor; each\n",
      "of the former afforded me two or three good mouthfuls; and I emptied the\n",
      "liquor of ten vessels, which was contained in earthen vials, into one\n",
      "vehicle, drinking it off at a draught; and so I did with the rest.  The\n",
      "empress, and young princes of the blood of both sexes, attended by many\n",
      "ladies, sat at some distance in their chairs; but upon the accident that\n",
      "happened to the emperors horse, they alighted, and came near his person,\n",
      "which I am now going to describe.  He is taller by almost the breadth of\n",
      "my nail, than any of his court; which alone is enough to strike an awe\n",
      "into the beholders.  His features are strong and masculine, with an\n",
      "Austrian lip and arched nose, his complexion olive, his countenance\n",
      "erect, his body and limbs well proportioned, all his motions graceful,\n",
      "and his deportment majestic.  He was then past his prime, being\n",
      "twentyeight years and three quarters old, of which he had reigned about\n",
      "seven in great felicity, and generally victorious.  For the better\n",
      "convenience of beholding him, I lay on my side, so that my face was\n",
      "parallel to his, and he stood but three yards off: however, I have had\n",
      "him since many times in my hand, and therefore cannot be deceived in the\n",
      "description.  His dress was very plain and simple, and the fashion of it\n",
      "between the Asiatic and the European; but he had on his head a light\n",
      "helmet of gold, adorned with jewels, and a plume on the crest.  He held\n",
      "his sword drawn in his hand to defend himself, if I should happen to\n",
      "break loose; it was almost three inches long; the hilt and scabbard were\n",
      "gold enriched with diamonds.\n"
     ]
    }
   ],
   "source": [
    "decrypt('Lambert.txt')"
   ]
  },
  {
   "cell_type": "code",
   "execution_count": null,
   "metadata": {},
   "outputs": [],
   "source": []
  },
  {
   "cell_type": "code",
   "execution_count": null,
   "metadata": {},
   "outputs": [],
   "source": []
  }
 ],
 "metadata": {
  "kernelspec": {
   "display_name": "Python 3",
   "language": "python",
   "name": "python3"
  },
  "language_info": {
   "codemirror_mode": {
    "name": "ipython",
    "version": 3
   },
   "file_extension": ".py",
   "mimetype": "text/x-python",
   "name": "python",
   "nbconvert_exporter": "python",
   "pygments_lexer": "ipython3",
   "version": "3.8.3"
  }
 },
 "nbformat": 4,
 "nbformat_minor": 4
}
